{
 "cells": [
  {
   "cell_type": "code",
   "execution_count": 1,
   "metadata": {},
   "outputs": [],
   "source": [
    "import pandas as pd\n",
    "import numpy as np\n",
    "from numpy import random"
   ]
  },
  {
   "cell_type": "markdown",
   "metadata": {},
   "source": [
    "### Pandas Data Structures: Series and DataFrame"
   ]
  },
  {
   "cell_type": "code",
   "execution_count": null,
   "metadata": {},
   "outputs": [],
   "source": [
    "# Series:  A one-dimensional labeled array\n",
    "s = pd.Series([1, 2, 3, 4, 5])\n",
    "s"
   ]
  },
  {
   "cell_type": "code",
   "execution_count": null,
   "metadata": {},
   "outputs": [],
   "source": [
    "calories = {\n",
    "    \"d1\": 234,\n",
    "    \"d2\": 687,\n",
    "    \"d3\": 890,\n",
    "}\n",
    "var = pd.Series(calories, index = [\"d2\",\"d1\"])\n",
    "print(var)"
   ]
  },
  {
   "cell_type": "code",
   "execution_count": null,
   "metadata": {},
   "outputs": [],
   "source": [
    "a = np.random.randint(10,20,10)\n",
    "var = pd.Series(a)\n",
    "print(var)\n",
    "\n",
    "# index\n",
    "\n",
    "var = pd.Series(a, index=[x for x in range(1,11)])\n",
    "print(var)"
   ]
  },
  {
   "cell_type": "code",
   "execution_count": null,
   "metadata": {},
   "outputs": [],
   "source": [
    "# DataFrame: A two-dimensional table of data with labeled axes (rows and columns)\n",
    "dataframe = pd.DataFrame({\n",
    "    'Name': ['Alice', 'Bob', 'Charlie'],\n",
    "    'Age': [25, 30, 35],\n",
    "    'City': ['New York', 'Los Angeles', 'Chicago']\n",
    "})"
   ]
  },
  {
   "cell_type": "markdown",
   "metadata": {},
   "source": [
    "### Creating DataFrames"
   ]
  },
  {
   "cell_type": "code",
   "execution_count": null,
   "metadata": {},
   "outputs": [],
   "source": [
    "data = {'Name': ['John', 'Anna', 'Peter'],\n",
    "        'Age': [28, 24, 35]}\n",
    "df = pd.DataFrame(data)"
   ]
  },
  {
   "cell_type": "markdown",
   "metadata": {},
   "source": [
    "### Inspecting DataFrames"
   ]
  },
  {
   "cell_type": "code",
   "execution_count": null,
   "metadata": {},
   "outputs": [],
   "source": [
    "df.head()   # First 5 rows\n",
    "df.tail()   # Last 5 rows\n",
    "df.info()   # Provides an overview of the DataFrame, including column names, data types, and memory usage\n",
    "df.describe() # Provides summary statistics (mean, standard deviation, etc.) for numerical columns"
   ]
  },
  {
   "cell_type": "markdown",
   "metadata": {},
   "source": [
    "### Indexing and Slicing"
   ]
  },
  {
   "cell_type": "code",
   "execution_count": null,
   "metadata": {},
   "outputs": [],
   "source": [
    "df['Name']    # Select one column\n",
    "df[['Name', 'Age']]   # Select multiple columns"
   ]
  },
  {
   "cell_type": "code",
   "execution_count": null,
   "metadata": {},
   "outputs": [],
   "source": [
    "# Selecting rows using .iloc and .loc\n",
    "df.iloc[0]  # First row"
   ]
  },
  {
   "cell_type": "code",
   "execution_count": null,
   "metadata": {},
   "outputs": [],
   "source": [
    "df.loc[0]   # First row"
   ]
  },
  {
   "cell_type": "markdown",
   "metadata": {},
   "source": [
    "### Data Cleaning and Preprocessing"
   ]
  },
  {
   "cell_type": "code",
   "execution_count": null,
   "metadata": {},
   "outputs": [],
   "source": [
    "# Handling missing values\n",
    "# .isnull() and .notnull() to detect missing values\n",
    "df.isnull().sum()  # Check how many null values are in each column"
   ]
  },
  {
   "cell_type": "code",
   "execution_count": null,
   "metadata": {},
   "outputs": [],
   "source": [
    "# .fillna() to replace missing values with a specific value\n",
    "df['Age'].fillna(df['Age'].mean(), inplace=True)  # Replace nulls with mean"
   ]
  },
  {
   "cell_type": "code",
   "execution_count": null,
   "metadata": {},
   "outputs": [],
   "source": [
    "# .dropna() to remove rows or columns with missing data\n",
    "df.dropna(inplace=True)"
   ]
  },
  {
   "cell_type": "code",
   "execution_count": null,
   "metadata": {},
   "outputs": [],
   "source": [
    "# Renaming columns\n",
    "df.rename(columns={'old_name': 'new_name'}, inplace=True)"
   ]
  },
  {
   "cell_type": "markdown",
   "metadata": {},
   "source": [
    "### Filtering and Conditional Selection"
   ]
  },
  {
   "cell_type": "code",
   "execution_count": null,
   "metadata": {},
   "outputs": [],
   "source": [
    "# Filtering rows based on conditions\n",
    "df[df['Age'] > 25]  # Select rows where 'Age' > 25"
   ]
  },
  {
   "cell_type": "code",
   "execution_count": null,
   "metadata": {},
   "outputs": [],
   "source": [
    "# Multiple conditions using & (and), | (or)\n",
    "df[(df['Age'] > 25) & (df['City'] == 'New York')]"
   ]
  },
  {
   "cell_type": "markdown",
   "metadata": {},
   "source": [
    "### Sorting and Ordering"
   ]
  },
  {
   "cell_type": "code",
   "execution_count": null,
   "metadata": {},
   "outputs": [],
   "source": [
    "# Sorting by a specific column\n",
    "df.sort_values('Age', ascending=False)"
   ]
  },
  {
   "cell_type": "code",
   "execution_count": null,
   "metadata": {},
   "outputs": [],
   "source": [
    "# Sorting by multiple columns\n",
    "df.sort_values(['City', 'Age'], ascending=[True, False])"
   ]
  },
  {
   "cell_type": "markdown",
   "metadata": {},
   "source": [
    "### Aggregation and Grouping"
   ]
  },
  {
   "cell_type": "code",
   "execution_count": null,
   "metadata": {},
   "outputs": [],
   "source": [
    "# .groupby() Used to group data by one or more columns and apply aggregation functions like mean, sum, count\n",
    "df.groupby('City')['Age'].mean()  # Group by 'City' and compute mean of 'Age'"
   ]
  },
  {
   "cell_type": "code",
   "execution_count": null,
   "metadata": {},
   "outputs": [],
   "source": [
    "# .agg() Allows you to apply multiple aggregation functions at once.\n",
    "df.groupby('City').agg({'Age': ['mean', 'max'], 'Salary': 'sum'})"
   ]
  },
  {
   "cell_type": "markdown",
   "metadata": {},
   "source": [
    "### Merging, Joining, and Concatenation"
   ]
  },
  {
   "cell_type": "code",
   "execution_count": null,
   "metadata": {},
   "outputs": [],
   "source": [
    "# Merging DataFrames\n",
    "# For example if we have two DataFrames 'df1' and 'df2'\n",
    "pd.merge(df1, df2, on='common_column')"
   ]
  },
  {
   "cell_type": "code",
   "execution_count": null,
   "metadata": {},
   "outputs": [],
   "source": [
    "# Concatenating DataFrames\n",
    "# For example if we have two DataFrames 'df1' and 'df2'\n",
    "pd.concat([df1, df2], axis=0)  # Vertical stack\n",
    "pd.concat([df1, df2], axis=1)  # Horizontal stack"
   ]
  },
  {
   "cell_type": "markdown",
   "metadata": {},
   "source": [
    "### Working with Dates and Times"
   ]
  },
  {
   "cell_type": "code",
   "execution_count": null,
   "metadata": {},
   "outputs": [],
   "source": [
    "# Converting strings to datetime\n",
    "df['date_column'] = pd.to_datetime(df['date_column'])"
   ]
  },
  {
   "cell_type": "code",
   "execution_count": null,
   "metadata": {},
   "outputs": [],
   "source": [
    "# Extracting components (year, month, day)\n",
    "df['year'] = df['date_column'].dt.year\n",
    "df['month'] = df['date_column'].dt.month"
   ]
  },
  {
   "cell_type": "code",
   "execution_count": null,
   "metadata": {},
   "outputs": [],
   "source": [
    "# Resampling time series data\n",
    "df.resample('M').mean()  # 'M' stands for month"
   ]
  },
  {
   "cell_type": "markdown",
   "metadata": {},
   "source": [
    "### Pivot Tables"
   ]
  },
  {
   "cell_type": "code",
   "execution_count": null,
   "metadata": {},
   "outputs": [],
   "source": [
    "# pivot tables in Pandas allow for data summarization\n",
    "df.pivot_table(index='City', columns='Gender', values='Age', aggfunc='mean')"
   ]
  },
  {
   "cell_type": "markdown",
   "metadata": {},
   "source": [
    "### Visualization with Pandas"
   ]
  },
  {
   "cell_type": "code",
   "execution_count": null,
   "metadata": {},
   "outputs": [],
   "source": [
    "df['Age'].plot(kind='hist')\n",
    "df.plot(x='Age', y='Salary', kind='scatter')"
   ]
  },
  {
   "cell_type": "markdown",
   "metadata": {},
   "source": [
    "### Exporting Data"
   ]
  },
  {
   "cell_type": "code",
   "execution_count": null,
   "metadata": {},
   "outputs": [],
   "source": [
    "df.to_csv('output.csv', index=False)     # To CSV"
   ]
  },
  {
   "cell_type": "code",
   "execution_count": null,
   "metadata": {},
   "outputs": [],
   "source": [
    "df.to_excel('output.xlsx', index=False)     # To Excel"
   ]
  },
  {
   "cell_type": "markdown",
   "metadata": {},
   "source": [
    "### Advanced Pandas Features"
   ]
  },
  {
   "cell_type": "code",
   "execution_count": null,
   "metadata": {},
   "outputs": [],
   "source": [
    "# Multi-indexing (Hierarchical Indexing) Pandas allows you to work with data at multiple levels of indexing\n",
    "df.set_index(['City', 'Gender'], inplace=True)"
   ]
  },
  {
   "cell_type": "code",
   "execution_count": null,
   "metadata": {},
   "outputs": [],
   "source": [
    "# Window Functions Used for rolling and expanding operations\n",
    "df['rolling_avg'] = df['Age'].rolling(window=3).mean()  # 3-row rolling average"
   ]
  },
  {
   "cell_type": "markdown",
   "metadata": {},
   "source": [
    "### Import and Read the file"
   ]
  },
  {
   "cell_type": "code",
   "execution_count": null,
   "metadata": {},
   "outputs": [],
   "source": [
    "import os\n",
    "# os.mkdir(\"C:\\\\\")         # File Path"
   ]
  },
  {
   "cell_type": "markdown",
   "metadata": {},
   "source": [
    "### Link to Dataset"
   ]
  },
  {
   "cell_type": "code",
   "execution_count": null,
   "metadata": {},
   "outputs": [],
   "source": [
    "# https://www.kaggle.com/datasets/fathyfathysahlool/calories-and-pulse"
   ]
  },
  {
   "cell_type": "code",
   "execution_count": null,
   "metadata": {},
   "outputs": [],
   "source": [
    "df = pd.read_csv(\"./Data/data.csv\")\n",
    "print(df)\n",
    "# print(df.to_string())"
   ]
  },
  {
   "cell_type": "code",
   "execution_count": null,
   "metadata": {},
   "outputs": [],
   "source": [
    "# Process to first create and then read .csv file\n",
    "Stu_dta = {\n",
    "    \"names\": [\"Ali\",\"Aziz\",\"Abdullah\",\"Qasim\",\"Sultan\"],\n",
    "    \"marks\": [x for x in random.randint(50,100,5)],\n",
    "    \"citys\": [\"Bahawalpur\", \"jpj\", \"Gujrat\", \"Ali pur\", \"Bashir wala\"]\n",
    "}\n",
    "df = pd.DataFrame(Stu_dta)\n",
    "# print(df)\n",
    "# df.to_csv(\"./Data/Student_data.csv\", index=False)\n",
    "df = pd.read_csv(\"./Data/Student_data.csv\")\n",
    "print(df.to_string())"
   ]
  },
  {
   "cell_type": "code",
   "execution_count": null,
   "metadata": {},
   "outputs": [],
   "source": [
    "# Practice on creating and reading data\n",
    "df = pd.read_csv(\"./Data/data.csv\")\n",
    "# print(df.to_string())\n",
    "df.head(5)\n",
    "# df.tail(5)"
   ]
  },
  {
   "cell_type": "markdown",
   "metadata": {},
   "source": [
    "### Practice"
   ]
  },
  {
   "cell_type": "code",
   "execution_count": null,
   "metadata": {},
   "outputs": [],
   "source": [
    "# To access specific column\n",
    "df[\"Pulse\"]\n",
    "df[\"Pulse\"][2]"
   ]
  },
  {
   "cell_type": "code",
   "execution_count": null,
   "metadata": {},
   "outputs": [],
   "source": [
    "# Randomly Generate DataFrame\n",
    "new_df = pd.DataFrame(np.random.rand(300,5), index = np.arange(300))\n",
    "new_df"
   ]
  },
  {
   "cell_type": "code",
   "execution_count": null,
   "metadata": {},
   "outputs": [],
   "source": [
    "# Basica Analysis of data\n",
    "new_df.describe()\n",
    "new_df.info()"
   ]
  },
  {
   "cell_type": "code",
   "execution_count": null,
   "metadata": {},
   "outputs": [],
   "source": [
    "# Creating DataFrame with Series\n",
    "new_data = pd.DataFrame({\"Name\": pd.Series([\"Adam\",\"Eve\"]),\"age\": pd.Series([12,34])})\n",
    "print(new_data)"
   ]
  },
  {
   "cell_type": "code",
   "execution_count": null,
   "metadata": {},
   "outputs": [],
   "source": [
    "# Accessing index and columns of data\n",
    "new_data.index\n",
    "new_data.columns"
   ]
  },
  {
   "cell_type": "code",
   "execution_count": null,
   "metadata": {},
   "outputs": [],
   "source": [
    "# Basic Analysis \n",
    "new_df[:5]  \n",
    "new_df.index.array\n",
    "new_df.to_numpy()    \n",
    "new_df.columns\n",
    "new_df[\"Duration\"][3] \n",
    "new_df[\"Duration\"][3] = 45\n",
    "new_df"
   ]
  },
  {
   "cell_type": "code",
   "execution_count": null,
   "metadata": {},
   "outputs": [],
   "source": [
    "# collect specific data\n",
    "new_df.loc[[1,2,3],[3,4]]\n",
    "new_df.loc[5:11,:]"
   ]
  },
  {
   "cell_type": "code",
   "execution_count": null,
   "metadata": {},
   "outputs": [],
   "source": [
    "new_df.iloc[1,2]"
   ]
  },
  {
   "cell_type": "code",
   "execution_count": null,
   "metadata": {},
   "outputs": [],
   "source": [
    "new_df.drop(3,axis=1)"
   ]
  },
  {
   "attachments": {},
   "cell_type": "markdown",
   "metadata": {},
   "source": [
    "### Data Cleaning\n",
    "#### Dropena and fillna"
   ]
  },
  {
   "cell_type": "code",
   "execution_count": 20,
   "metadata": {},
   "outputs": [
    {
     "data": {
      "text/plain": [
       "300.0"
      ]
     },
     "execution_count": 20,
     "metadata": {},
     "output_type": "execute_result"
    }
   ],
   "source": [
    "# Uncomment the line and run the code\n",
    "\n",
    "var = pd.read_csv(\"./Data/data.csv\")\n",
    "# var.dropna() # Drop => rows\n",
    "# print(var.dropna(axis=1)) # Drop columns\n",
    "# print(var.dropna(axis=0)) # Drop rows\n"
   ]
  },
  {
   "cell_type": "code",
   "execution_count": 21,
   "metadata": {},
   "outputs": [
    {
     "data": {
      "text/html": [
       "<div>\n",
       "<style scoped>\n",
       "    .dataframe tbody tr th:only-of-type {\n",
       "        vertical-align: middle;\n",
       "    }\n",
       "\n",
       "    .dataframe tbody tr th {\n",
       "        vertical-align: top;\n",
       "    }\n",
       "\n",
       "    .dataframe thead th {\n",
       "        text-align: right;\n",
       "    }\n",
       "</style>\n",
       "<table border=\"1\" class=\"dataframe\">\n",
       "  <thead>\n",
       "    <tr style=\"text-align: right;\">\n",
       "      <th></th>\n",
       "      <th>Duration</th>\n",
       "      <th>Pulse</th>\n",
       "      <th>Maxpulse</th>\n",
       "      <th>Calories</th>\n",
       "    </tr>\n",
       "  </thead>\n",
       "  <tbody>\n",
       "    <tr>\n",
       "      <th>0</th>\n",
       "      <td>60.0</td>\n",
       "      <td>110.0</td>\n",
       "      <td>130.0</td>\n",
       "      <td>409.1</td>\n",
       "    </tr>\n",
       "    <tr>\n",
       "      <th>1</th>\n",
       "      <td>NaN</td>\n",
       "      <td>NaN</td>\n",
       "      <td>NaN</td>\n",
       "      <td>NaN</td>\n",
       "    </tr>\n",
       "    <tr>\n",
       "      <th>2</th>\n",
       "      <td>60.0</td>\n",
       "      <td>103.0</td>\n",
       "      <td>135.0</td>\n",
       "      <td>340.0</td>\n",
       "    </tr>\n",
       "    <tr>\n",
       "      <th>3</th>\n",
       "      <td>45.0</td>\n",
       "      <td>NaN</td>\n",
       "      <td>175.0</td>\n",
       "      <td>282.4</td>\n",
       "    </tr>\n",
       "    <tr>\n",
       "      <th>4</th>\n",
       "      <td>45.0</td>\n",
       "      <td>117.0</td>\n",
       "      <td>148.0</td>\n",
       "      <td>406.0</td>\n",
       "    </tr>\n",
       "    <tr>\n",
       "      <th>...</th>\n",
       "      <td>...</td>\n",
       "      <td>...</td>\n",
       "      <td>...</td>\n",
       "      <td>...</td>\n",
       "    </tr>\n",
       "    <tr>\n",
       "      <th>164</th>\n",
       "      <td>60.0</td>\n",
       "      <td>105.0</td>\n",
       "      <td>140.0</td>\n",
       "      <td>290.8</td>\n",
       "    </tr>\n",
       "    <tr>\n",
       "      <th>165</th>\n",
       "      <td>60.0</td>\n",
       "      <td>110.0</td>\n",
       "      <td>145.0</td>\n",
       "      <td>300.0</td>\n",
       "    </tr>\n",
       "    <tr>\n",
       "      <th>166</th>\n",
       "      <td>60.0</td>\n",
       "      <td>115.0</td>\n",
       "      <td>145.0</td>\n",
       "      <td>310.2</td>\n",
       "    </tr>\n",
       "    <tr>\n",
       "      <th>167</th>\n",
       "      <td>75.0</td>\n",
       "      <td>120.0</td>\n",
       "      <td>150.0</td>\n",
       "      <td>320.4</td>\n",
       "    </tr>\n",
       "    <tr>\n",
       "      <th>168</th>\n",
       "      <td>75.0</td>\n",
       "      <td>125.0</td>\n",
       "      <td>150.0</td>\n",
       "      <td>330.4</td>\n",
       "    </tr>\n",
       "  </tbody>\n",
       "</table>\n",
       "<p>169 rows × 4 columns</p>\n",
       "</div>"
      ],
      "text/plain": [
       "     Duration  Pulse  Maxpulse  Calories\n",
       "0        60.0  110.0     130.0     409.1\n",
       "1         NaN    NaN       NaN       NaN\n",
       "2        60.0  103.0     135.0     340.0\n",
       "3        45.0    NaN     175.0     282.4\n",
       "4        45.0  117.0     148.0     406.0\n",
       "..        ...    ...       ...       ...\n",
       "164      60.0  105.0     140.0     290.8\n",
       "165      60.0  110.0     145.0     300.0\n",
       "166      60.0  115.0     145.0     310.2\n",
       "167      75.0  120.0     150.0     320.4\n",
       "168      75.0  125.0     150.0     330.4\n",
       "\n",
       "[169 rows x 4 columns]"
      ]
     },
     "execution_count": 21,
     "metadata": {},
     "output_type": "execute_result"
    }
   ],
   "source": [
    "var = pd.read_excel(\"./Data/data.xlsx\")\n",
    "var\n",
    "# var.loc[1,\"Calories\"]\n",
    "# var.dropna()"
   ]
  },
  {
   "cell_type": "code",
   "execution_count": 22,
   "metadata": {},
   "outputs": [
    {
     "data": {
      "text/html": [
       "<div>\n",
       "<style scoped>\n",
       "    .dataframe tbody tr th:only-of-type {\n",
       "        vertical-align: middle;\n",
       "    }\n",
       "\n",
       "    .dataframe tbody tr th {\n",
       "        vertical-align: top;\n",
       "    }\n",
       "\n",
       "    .dataframe thead th {\n",
       "        text-align: right;\n",
       "    }\n",
       "</style>\n",
       "<table border=\"1\" class=\"dataframe\">\n",
       "  <thead>\n",
       "    <tr style=\"text-align: right;\">\n",
       "      <th></th>\n",
       "      <th>Duration</th>\n",
       "      <th>Pulse</th>\n",
       "      <th>Maxpulse</th>\n",
       "      <th>Calories</th>\n",
       "    </tr>\n",
       "  </thead>\n",
       "  <tbody>\n",
       "    <tr>\n",
       "      <th>0</th>\n",
       "      <td>60.0</td>\n",
       "      <td>110.0</td>\n",
       "      <td>130.0</td>\n",
       "      <td>409.1</td>\n",
       "    </tr>\n",
       "    <tr>\n",
       "      <th>1</th>\n",
       "      <td>63.9</td>\n",
       "      <td>107.4</td>\n",
       "      <td>131.0</td>\n",
       "      <td>318.0</td>\n",
       "    </tr>\n",
       "    <tr>\n",
       "      <th>2</th>\n",
       "      <td>60.0</td>\n",
       "      <td>103.0</td>\n",
       "      <td>135.0</td>\n",
       "      <td>340.0</td>\n",
       "    </tr>\n",
       "    <tr>\n",
       "      <th>3</th>\n",
       "      <td>45.0</td>\n",
       "      <td>107.4</td>\n",
       "      <td>175.0</td>\n",
       "      <td>282.4</td>\n",
       "    </tr>\n",
       "    <tr>\n",
       "      <th>4</th>\n",
       "      <td>45.0</td>\n",
       "      <td>117.0</td>\n",
       "      <td>148.0</td>\n",
       "      <td>406.0</td>\n",
       "    </tr>\n",
       "    <tr>\n",
       "      <th>...</th>\n",
       "      <td>...</td>\n",
       "      <td>...</td>\n",
       "      <td>...</td>\n",
       "      <td>...</td>\n",
       "    </tr>\n",
       "    <tr>\n",
       "      <th>164</th>\n",
       "      <td>60.0</td>\n",
       "      <td>105.0</td>\n",
       "      <td>140.0</td>\n",
       "      <td>290.8</td>\n",
       "    </tr>\n",
       "    <tr>\n",
       "      <th>165</th>\n",
       "      <td>60.0</td>\n",
       "      <td>110.0</td>\n",
       "      <td>145.0</td>\n",
       "      <td>300.0</td>\n",
       "    </tr>\n",
       "    <tr>\n",
       "      <th>166</th>\n",
       "      <td>60.0</td>\n",
       "      <td>115.0</td>\n",
       "      <td>145.0</td>\n",
       "      <td>310.2</td>\n",
       "    </tr>\n",
       "    <tr>\n",
       "      <th>167</th>\n",
       "      <td>75.0</td>\n",
       "      <td>120.0</td>\n",
       "      <td>150.0</td>\n",
       "      <td>320.4</td>\n",
       "    </tr>\n",
       "    <tr>\n",
       "      <th>168</th>\n",
       "      <td>75.0</td>\n",
       "      <td>125.0</td>\n",
       "      <td>150.0</td>\n",
       "      <td>330.4</td>\n",
       "    </tr>\n",
       "  </tbody>\n",
       "</table>\n",
       "<p>169 rows × 4 columns</p>\n",
       "</div>"
      ],
      "text/plain": [
       "     Duration  Pulse  Maxpulse  Calories\n",
       "0        60.0  110.0     130.0     409.1\n",
       "1        63.9  107.4     131.0     318.0\n",
       "2        60.0  103.0     135.0     340.0\n",
       "3        45.0  107.4     175.0     282.4\n",
       "4        45.0  117.0     148.0     406.0\n",
       "..        ...    ...       ...       ...\n",
       "164      60.0  105.0     140.0     290.8\n",
       "165      60.0  110.0     145.0     300.0\n",
       "166      60.0  115.0     145.0     310.2\n",
       "167      75.0  120.0     150.0     320.4\n",
       "168      75.0  125.0     150.0     330.4\n",
       "\n",
       "[169 rows x 4 columns]"
      ]
     },
     "execution_count": 22,
     "metadata": {},
     "output_type": "execute_result"
    }
   ],
   "source": [
    "import math\n",
    "var.dropna(subset=[\"Duration\"])\n",
    "var.dropna(thresh = 20)\n",
    "var.loc[0:5]\n",
    "# var[\"Duration\"].mode\n",
    "var = pd.read_excel(\"./Data/data.xlsx\")\n",
    "var.loc[1:5]\n",
    "var.fillna({\"Duration\": round(var[\"Duration\"].mean(),1),\n",
    "            \"Pulse\": round(var[\"Pulse\"].mean(),1),\n",
    "            \"Maxpulse\": round(var[\"Maxpulse\"].median(),1),\n",
    "            \"Calories\": round(var[\"Calories\"].median(),1),            \n",
    "            })"
   ]
  },
  {
   "cell_type": "code",
   "execution_count": 23,
   "metadata": {},
   "outputs": [
    {
     "data": {
      "text/html": [
       "<div>\n",
       "<style scoped>\n",
       "    .dataframe tbody tr th:only-of-type {\n",
       "        vertical-align: middle;\n",
       "    }\n",
       "\n",
       "    .dataframe tbody tr th {\n",
       "        vertical-align: top;\n",
       "    }\n",
       "\n",
       "    .dataframe thead th {\n",
       "        text-align: right;\n",
       "    }\n",
       "</style>\n",
       "<table border=\"1\" class=\"dataframe\">\n",
       "  <thead>\n",
       "    <tr style=\"text-align: right;\">\n",
       "      <th></th>\n",
       "      <th>Duration</th>\n",
       "      <th>Pulse</th>\n",
       "      <th>Maxpulse</th>\n",
       "      <th>Calories</th>\n",
       "    </tr>\n",
       "  </thead>\n",
       "  <tbody>\n",
       "    <tr>\n",
       "      <th>0</th>\n",
       "      <td>60.0</td>\n",
       "      <td>110.0</td>\n",
       "      <td>130.0</td>\n",
       "      <td>409.1</td>\n",
       "    </tr>\n",
       "    <tr>\n",
       "      <th>1</th>\n",
       "      <td>60.0</td>\n",
       "      <td>103.0</td>\n",
       "      <td>135.0</td>\n",
       "      <td>340.0</td>\n",
       "    </tr>\n",
       "    <tr>\n",
       "      <th>2</th>\n",
       "      <td>60.0</td>\n",
       "      <td>103.0</td>\n",
       "      <td>135.0</td>\n",
       "      <td>340.0</td>\n",
       "    </tr>\n",
       "    <tr>\n",
       "      <th>3</th>\n",
       "      <td>45.0</td>\n",
       "      <td>117.0</td>\n",
       "      <td>175.0</td>\n",
       "      <td>282.4</td>\n",
       "    </tr>\n",
       "    <tr>\n",
       "      <th>4</th>\n",
       "      <td>45.0</td>\n",
       "      <td>117.0</td>\n",
       "      <td>148.0</td>\n",
       "      <td>406.0</td>\n",
       "    </tr>\n",
       "    <tr>\n",
       "      <th>...</th>\n",
       "      <td>...</td>\n",
       "      <td>...</td>\n",
       "      <td>...</td>\n",
       "      <td>...</td>\n",
       "    </tr>\n",
       "    <tr>\n",
       "      <th>164</th>\n",
       "      <td>60.0</td>\n",
       "      <td>105.0</td>\n",
       "      <td>140.0</td>\n",
       "      <td>290.8</td>\n",
       "    </tr>\n",
       "    <tr>\n",
       "      <th>165</th>\n",
       "      <td>60.0</td>\n",
       "      <td>110.0</td>\n",
       "      <td>145.0</td>\n",
       "      <td>300.0</td>\n",
       "    </tr>\n",
       "    <tr>\n",
       "      <th>166</th>\n",
       "      <td>60.0</td>\n",
       "      <td>115.0</td>\n",
       "      <td>145.0</td>\n",
       "      <td>310.2</td>\n",
       "    </tr>\n",
       "    <tr>\n",
       "      <th>167</th>\n",
       "      <td>75.0</td>\n",
       "      <td>120.0</td>\n",
       "      <td>150.0</td>\n",
       "      <td>320.4</td>\n",
       "    </tr>\n",
       "    <tr>\n",
       "      <th>168</th>\n",
       "      <td>75.0</td>\n",
       "      <td>125.0</td>\n",
       "      <td>150.0</td>\n",
       "      <td>330.4</td>\n",
       "    </tr>\n",
       "  </tbody>\n",
       "</table>\n",
       "<p>169 rows × 4 columns</p>\n",
       "</div>"
      ],
      "text/plain": [
       "     Duration  Pulse  Maxpulse  Calories\n",
       "0        60.0  110.0     130.0     409.1\n",
       "1        60.0  103.0     135.0     340.0\n",
       "2        60.0  103.0     135.0     340.0\n",
       "3        45.0  117.0     175.0     282.4\n",
       "4        45.0  117.0     148.0     406.0\n",
       "..        ...    ...       ...       ...\n",
       "164      60.0  105.0     140.0     290.8\n",
       "165      60.0  110.0     145.0     300.0\n",
       "166      60.0  115.0     145.0     310.2\n",
       "167      75.0  120.0     150.0     320.4\n",
       "168      75.0  125.0     150.0     330.4\n",
       "\n",
       "[169 rows x 4 columns]"
      ]
     },
     "execution_count": 23,
     "metadata": {},
     "output_type": "execute_result"
    }
   ],
   "source": [
    "# If you want to replace value with previous one then\n",
    "var.fillna(method=\"ffill\")\n",
    "# If you want to replace value with after one then\n",
    "var.fillna(method=\"bfill\")\n",
    "var.fillna(method=\"bfill\", axis=0)"
   ]
  },
  {
   "attachments": {},
   "cell_type": "markdown",
   "metadata": {},
   "source": [
    "# Replace & interpolate"
   ]
  },
  {
   "cell_type": "code",
   "execution_count": 24,
   "metadata": {},
   "outputs": [],
   "source": [
    "import pandas as pd\n",
    "import numpy as np\n",
    "from numpy import random\n",
    "import os\n",
    "import matplotlib.pyplot as plt"
   ]
  },
  {
   "cell_type": "code",
   "execution_count": 25,
   "metadata": {},
   "outputs": [
    {
     "data": {
      "text/html": [
       "<div>\n",
       "<style scoped>\n",
       "    .dataframe tbody tr th:only-of-type {\n",
       "        vertical-align: middle;\n",
       "    }\n",
       "\n",
       "    .dataframe tbody tr th {\n",
       "        vertical-align: top;\n",
       "    }\n",
       "\n",
       "    .dataframe thead th {\n",
       "        text-align: right;\n",
       "    }\n",
       "</style>\n",
       "<table border=\"1\" class=\"dataframe\">\n",
       "  <thead>\n",
       "    <tr style=\"text-align: right;\">\n",
       "      <th></th>\n",
       "      <th>0</th>\n",
       "      <th>1</th>\n",
       "      <th>2</th>\n",
       "      <th>3</th>\n",
       "      <th>4</th>\n",
       "    </tr>\n",
       "  </thead>\n",
       "  <tbody>\n",
       "    <tr>\n",
       "      <th>0</th>\n",
       "      <td>0.476362</td>\n",
       "      <td>0.985416</td>\n",
       "      <td>0.060468</td>\n",
       "      <td>0.574165</td>\n",
       "      <td>0.557431</td>\n",
       "    </tr>\n",
       "    <tr>\n",
       "      <th>1</th>\n",
       "      <td>0.183175</td>\n",
       "      <td>0.767163</td>\n",
       "      <td>0.044329</td>\n",
       "      <td>0.002265</td>\n",
       "      <td>0.767461</td>\n",
       "    </tr>\n",
       "    <tr>\n",
       "      <th>2</th>\n",
       "      <td>0.803194</td>\n",
       "      <td>0.200885</td>\n",
       "      <td>0.009380</td>\n",
       "      <td>0.275634</td>\n",
       "      <td>0.159728</td>\n",
       "    </tr>\n",
       "    <tr>\n",
       "      <th>3</th>\n",
       "      <td>0.987786</td>\n",
       "      <td>0.581273</td>\n",
       "      <td>0.236645</td>\n",
       "      <td>0.806201</td>\n",
       "      <td>0.803362</td>\n",
       "    </tr>\n",
       "    <tr>\n",
       "      <th>4</th>\n",
       "      <td>0.490131</td>\n",
       "      <td>0.986738</td>\n",
       "      <td>0.360924</td>\n",
       "      <td>0.456026</td>\n",
       "      <td>0.746548</td>\n",
       "    </tr>\n",
       "    <tr>\n",
       "      <th>...</th>\n",
       "      <td>...</td>\n",
       "      <td>...</td>\n",
       "      <td>...</td>\n",
       "      <td>...</td>\n",
       "      <td>...</td>\n",
       "    </tr>\n",
       "    <tr>\n",
       "      <th>295</th>\n",
       "      <td>0.505143</td>\n",
       "      <td>0.449867</td>\n",
       "      <td>0.921126</td>\n",
       "      <td>0.241650</td>\n",
       "      <td>0.338663</td>\n",
       "    </tr>\n",
       "    <tr>\n",
       "      <th>296</th>\n",
       "      <td>0.678471</td>\n",
       "      <td>0.693432</td>\n",
       "      <td>0.077435</td>\n",
       "      <td>0.213640</td>\n",
       "      <td>0.135497</td>\n",
       "    </tr>\n",
       "    <tr>\n",
       "      <th>297</th>\n",
       "      <td>0.416474</td>\n",
       "      <td>0.174780</td>\n",
       "      <td>0.366998</td>\n",
       "      <td>0.456196</td>\n",
       "      <td>0.132509</td>\n",
       "    </tr>\n",
       "    <tr>\n",
       "      <th>298</th>\n",
       "      <td>0.261517</td>\n",
       "      <td>0.151926</td>\n",
       "      <td>0.961590</td>\n",
       "      <td>0.228566</td>\n",
       "      <td>0.049301</td>\n",
       "    </tr>\n",
       "    <tr>\n",
       "      <th>299</th>\n",
       "      <td>0.855769</td>\n",
       "      <td>0.495865</td>\n",
       "      <td>0.812556</td>\n",
       "      <td>0.735209</td>\n",
       "      <td>0.871317</td>\n",
       "    </tr>\n",
       "  </tbody>\n",
       "</table>\n",
       "<p>300 rows × 5 columns</p>\n",
       "</div>"
      ],
      "text/plain": [
       "            0         1         2         3         4\n",
       "0    0.476362  0.985416  0.060468  0.574165  0.557431\n",
       "1    0.183175  0.767163  0.044329  0.002265  0.767461\n",
       "2    0.803194  0.200885  0.009380  0.275634  0.159728\n",
       "3    0.987786  0.581273  0.236645  0.806201  0.803362\n",
       "4    0.490131  0.986738  0.360924  0.456026  0.746548\n",
       "..        ...       ...       ...       ...       ...\n",
       "295  0.505143  0.449867  0.921126  0.241650  0.338663\n",
       "296  0.678471  0.693432  0.077435  0.213640  0.135497\n",
       "297  0.416474  0.174780  0.366998  0.456196  0.132509\n",
       "298  0.261517  0.151926  0.961590  0.228566  0.049301\n",
       "299  0.855769  0.495865  0.812556  0.735209  0.871317\n",
       "\n",
       "[300 rows x 5 columns]"
      ]
     },
     "execution_count": 25,
     "metadata": {},
     "output_type": "execute_result"
    }
   ],
   "source": [
    "# newdf = pd.DataFrame(round(np.random.rand(300,5), 2), index = np.arange(300))\n",
    "nd = pd.DataFrame(np.random.rand(300,5), index=np.arange(300))\n",
    "nd"
   ]
  },
  {
   "cell_type": "code",
   "execution_count": 26,
   "metadata": {},
   "outputs": [
    {
     "data": {
      "text/html": [
       "<div>\n",
       "<style scoped>\n",
       "    .dataframe tbody tr th:only-of-type {\n",
       "        vertical-align: middle;\n",
       "    }\n",
       "\n",
       "    .dataframe tbody tr th {\n",
       "        vertical-align: top;\n",
       "    }\n",
       "\n",
       "    .dataframe thead th {\n",
       "        text-align: right;\n",
       "    }\n",
       "</style>\n",
       "<table border=\"1\" class=\"dataframe\">\n",
       "  <thead>\n",
       "    <tr style=\"text-align: right;\">\n",
       "      <th></th>\n",
       "      <th>Duration</th>\n",
       "      <th>Pulse</th>\n",
       "      <th>Maxpulse</th>\n",
       "      <th>Calories</th>\n",
       "    </tr>\n",
       "  </thead>\n",
       "  <tbody>\n",
       "    <tr>\n",
       "      <th>0</th>\n",
       "      <td>60.0</td>\n",
       "      <td>1000.0</td>\n",
       "      <td>130.0</td>\n",
       "      <td>409.1</td>\n",
       "    </tr>\n",
       "    <tr>\n",
       "      <th>1</th>\n",
       "      <td>NaN</td>\n",
       "      <td>NaN</td>\n",
       "      <td>NaN</td>\n",
       "      <td>NaN</td>\n",
       "    </tr>\n",
       "    <tr>\n",
       "      <th>2</th>\n",
       "      <td>60.0</td>\n",
       "      <td>103.0</td>\n",
       "      <td>135.0</td>\n",
       "      <td>340.0</td>\n",
       "    </tr>\n",
       "    <tr>\n",
       "      <th>3</th>\n",
       "      <td>45.0</td>\n",
       "      <td>NaN</td>\n",
       "      <td>175.0</td>\n",
       "      <td>282.4</td>\n",
       "    </tr>\n",
       "    <tr>\n",
       "      <th>4</th>\n",
       "      <td>45.0</td>\n",
       "      <td>117.0</td>\n",
       "      <td>148.0</td>\n",
       "      <td>406.0</td>\n",
       "    </tr>\n",
       "    <tr>\n",
       "      <th>...</th>\n",
       "      <td>...</td>\n",
       "      <td>...</td>\n",
       "      <td>...</td>\n",
       "      <td>...</td>\n",
       "    </tr>\n",
       "    <tr>\n",
       "      <th>164</th>\n",
       "      <td>60.0</td>\n",
       "      <td>105.0</td>\n",
       "      <td>140.0</td>\n",
       "      <td>290.8</td>\n",
       "    </tr>\n",
       "    <tr>\n",
       "      <th>165</th>\n",
       "      <td>60.0</td>\n",
       "      <td>1000.0</td>\n",
       "      <td>145.0</td>\n",
       "      <td>300.0</td>\n",
       "    </tr>\n",
       "    <tr>\n",
       "      <th>166</th>\n",
       "      <td>60.0</td>\n",
       "      <td>115.0</td>\n",
       "      <td>145.0</td>\n",
       "      <td>310.2</td>\n",
       "    </tr>\n",
       "    <tr>\n",
       "      <th>167</th>\n",
       "      <td>75.0</td>\n",
       "      <td>120.0</td>\n",
       "      <td>150.0</td>\n",
       "      <td>320.4</td>\n",
       "    </tr>\n",
       "    <tr>\n",
       "      <th>168</th>\n",
       "      <td>75.0</td>\n",
       "      <td>125.0</td>\n",
       "      <td>150.0</td>\n",
       "      <td>330.4</td>\n",
       "    </tr>\n",
       "  </tbody>\n",
       "</table>\n",
       "<p>169 rows × 4 columns</p>\n",
       "</div>"
      ],
      "text/plain": [
       "     Duration   Pulse  Maxpulse  Calories\n",
       "0        60.0  1000.0     130.0     409.1\n",
       "1         NaN     NaN       NaN       NaN\n",
       "2        60.0   103.0     135.0     340.0\n",
       "3        45.0     NaN     175.0     282.4\n",
       "4        45.0   117.0     148.0     406.0\n",
       "..        ...     ...       ...       ...\n",
       "164      60.0   105.0     140.0     290.8\n",
       "165      60.0  1000.0     145.0     300.0\n",
       "166      60.0   115.0     145.0     310.2\n",
       "167      75.0   120.0     150.0     320.4\n",
       "168      75.0   125.0     150.0     330.4\n",
       "\n",
       "[169 rows x 4 columns]"
      ]
     },
     "execution_count": 26,
     "metadata": {},
     "output_type": "execute_result"
    }
   ],
   "source": [
    "data = pd.read_excel(\"./Data/data.xlsx\")\n",
    "# data\n",
    "# data.dropna()\n",
    "# data.dropna(subset=\"Calories\")\n",
    "\n",
    "data.replace(to_replace=110, value=1000)"
   ]
  },
  {
   "cell_type": "code",
   "execution_count": 27,
   "metadata": {},
   "outputs": [
    {
     "data": {
      "text/html": [
       "<div>\n",
       "<style scoped>\n",
       "    .dataframe tbody tr th:only-of-type {\n",
       "        vertical-align: middle;\n",
       "    }\n",
       "\n",
       "    .dataframe tbody tr th {\n",
       "        vertical-align: top;\n",
       "    }\n",
       "\n",
       "    .dataframe thead th {\n",
       "        text-align: right;\n",
       "    }\n",
       "</style>\n",
       "<table border=\"1\" class=\"dataframe\">\n",
       "  <thead>\n",
       "    <tr style=\"text-align: right;\">\n",
       "      <th></th>\n",
       "      <th>Duration</th>\n",
       "      <th>Pulse</th>\n",
       "      <th>Maxpulse</th>\n",
       "      <th>Calories</th>\n",
       "    </tr>\n",
       "  </thead>\n",
       "  <tbody>\n",
       "    <tr>\n",
       "      <th>0</th>\n",
       "      <td>60.0</td>\n",
       "      <td>110.0</td>\n",
       "      <td>130.0</td>\n",
       "      <td>409.1</td>\n",
       "    </tr>\n",
       "    <tr>\n",
       "      <th>1</th>\n",
       "      <td>NaN</td>\n",
       "      <td>NaN</td>\n",
       "      <td>NaN</td>\n",
       "      <td>NaN</td>\n",
       "    </tr>\n",
       "    <tr>\n",
       "      <th>2</th>\n",
       "      <td>60.0</td>\n",
       "      <td>103.0</td>\n",
       "      <td>135.0</td>\n",
       "      <td>340.0</td>\n",
       "    </tr>\n",
       "    <tr>\n",
       "      <th>3</th>\n",
       "      <td>45.0</td>\n",
       "      <td>NaN</td>\n",
       "      <td>175.0</td>\n",
       "      <td>282.4</td>\n",
       "    </tr>\n",
       "    <tr>\n",
       "      <th>4</th>\n",
       "      <td>45.0</td>\n",
       "      <td>117.0</td>\n",
       "      <td>148.0</td>\n",
       "      <td>406.0</td>\n",
       "    </tr>\n",
       "    <tr>\n",
       "      <th>...</th>\n",
       "      <td>...</td>\n",
       "      <td>...</td>\n",
       "      <td>...</td>\n",
       "      <td>...</td>\n",
       "    </tr>\n",
       "    <tr>\n",
       "      <th>164</th>\n",
       "      <td>60.0</td>\n",
       "      <td>105.0</td>\n",
       "      <td>140.0</td>\n",
       "      <td>290.8</td>\n",
       "    </tr>\n",
       "    <tr>\n",
       "      <th>165</th>\n",
       "      <td>60.0</td>\n",
       "      <td>110.0</td>\n",
       "      <td>145.0</td>\n",
       "      <td>300.0</td>\n",
       "    </tr>\n",
       "    <tr>\n",
       "      <th>166</th>\n",
       "      <td>60.0</td>\n",
       "      <td>115.0</td>\n",
       "      <td>145.0</td>\n",
       "      <td>310.2</td>\n",
       "    </tr>\n",
       "    <tr>\n",
       "      <th>167</th>\n",
       "      <td>75.0</td>\n",
       "      <td>120.0</td>\n",
       "      <td>150.0</td>\n",
       "      <td>320.4</td>\n",
       "    </tr>\n",
       "    <tr>\n",
       "      <th>168</th>\n",
       "      <td>75.0</td>\n",
       "      <td>125.0</td>\n",
       "      <td>150.0</td>\n",
       "      <td>330.4</td>\n",
       "    </tr>\n",
       "  </tbody>\n",
       "</table>\n",
       "<p>169 rows × 4 columns</p>\n",
       "</div>"
      ],
      "text/plain": [
       "     Duration  Pulse  Maxpulse  Calories\n",
       "0        60.0  110.0     130.0     409.1\n",
       "1         NaN    NaN       NaN       NaN\n",
       "2        60.0  103.0     135.0     340.0\n",
       "3        45.0    NaN     175.0     282.4\n",
       "4        45.0  117.0     148.0     406.0\n",
       "..        ...    ...       ...       ...\n",
       "164      60.0  105.0     140.0     290.8\n",
       "165      60.0  110.0     145.0     300.0\n",
       "166      60.0  115.0     145.0     310.2\n",
       "167      75.0  120.0     150.0     320.4\n",
       "168      75.0  125.0     150.0     330.4\n",
       "\n",
       "[169 rows x 4 columns]"
      ]
     },
     "execution_count": 27,
     "metadata": {},
     "output_type": "execute_result"
    }
   ],
   "source": [
    "x = data[\"Calories\"].isnull()\n",
    "x[0:5]\n",
    "# y = 110\n",
    "# data.replace(to_replace=x, value=y)\n",
    "# data.isnull().sum()\n",
    "data[\"Calories\"].dropna()\n",
    "data"
   ]
  },
  {
   "cell_type": "code",
   "execution_count": 28,
   "metadata": {},
   "outputs": [
    {
     "data": {
      "text/html": [
       "<div>\n",
       "<style scoped>\n",
       "    .dataframe tbody tr th:only-of-type {\n",
       "        vertical-align: middle;\n",
       "    }\n",
       "\n",
       "    .dataframe tbody tr th {\n",
       "        vertical-align: top;\n",
       "    }\n",
       "\n",
       "    .dataframe thead th {\n",
       "        text-align: right;\n",
       "    }\n",
       "</style>\n",
       "<table border=\"1\" class=\"dataframe\">\n",
       "  <thead>\n",
       "    <tr style=\"text-align: right;\">\n",
       "      <th></th>\n",
       "      <th>Zürich</th>\n",
       "      <th>Winterthur</th>\n",
       "      <th>Freiburg</th>\n",
       "    </tr>\n",
       "  </thead>\n",
       "  <tbody>\n",
       "    <tr>\n",
       "      <th>2014</th>\n",
       "      <td>2409.14</td>\n",
       "      <td>1203.45</td>\n",
       "      <td>3412.12</td>\n",
       "    </tr>\n",
       "    <tr>\n",
       "      <th>2015</th>\n",
       "      <td>2941.01</td>\n",
       "      <td>3441.62</td>\n",
       "      <td>3491.16</td>\n",
       "    </tr>\n",
       "    <tr>\n",
       "      <th>2016</th>\n",
       "      <td>3496.83</td>\n",
       "      <td>3007.83</td>\n",
       "      <td>3457.19</td>\n",
       "    </tr>\n",
       "    <tr>\n",
       "      <th>2017</th>\n",
       "      <td>3119.55</td>\n",
       "      <td>3619.53</td>\n",
       "      <td>1963.10</td>\n",
       "    </tr>\n",
       "  </tbody>\n",
       "</table>\n",
       "</div>"
      ],
      "text/plain": [
       "       Zürich  Winterthur  Freiburg\n",
       "2014  2409.14     1203.45   3412.12\n",
       "2015  2941.01     3441.62   3491.16\n",
       "2016  3496.83     3007.83   3457.19\n",
       "2017  3119.55     3619.53   1963.10"
      ]
     },
     "execution_count": 28,
     "metadata": {},
     "output_type": "execute_result"
    }
   ],
   "source": [
    "years = range(2014,2018)\n",
    "shop1 = pd.Series([2409.14, 2941.01, 3496.83, 3119.55], index=years)\n",
    "shop2 = pd.Series([1203.45, 3441.62, 3007.83, 3619.53], index=years)\n",
    "shop3 = pd.Series([3412.12, 3491.16, 3457.19, 1963.10], index=years)\n",
    "# pd.concat([shop1,shop2,shop3])\n",
    "shop = pd.concat([shop1,shop2,shop3], axis=1)\n",
    "# shop\n",
    "cities = [\"Zürich\", \"Winterthur\", \"Freiburg\"]\n",
    "# or\n",
    "# shop1.name = \"Zurich\"\n",
    "shop.columns = cities\n",
    "shop"
   ]
  },
  {
   "cell_type": "code",
   "execution_count": 29,
   "metadata": {},
   "outputs": [
    {
     "data": {
      "text/html": [
       "<div>\n",
       "<style scoped>\n",
       "    .dataframe tbody tr th:only-of-type {\n",
       "        vertical-align: middle;\n",
       "    }\n",
       "\n",
       "    .dataframe tbody tr th {\n",
       "        vertical-align: top;\n",
       "    }\n",
       "\n",
       "    .dataframe thead th {\n",
       "        text-align: right;\n",
       "    }\n",
       "</style>\n",
       "<table border=\"1\" class=\"dataframe\">\n",
       "  <thead>\n",
       "    <tr style=\"text-align: right;\">\n",
       "      <th></th>\n",
       "      <th>name</th>\n",
       "      <th>population</th>\n",
       "    </tr>\n",
       "  </thead>\n",
       "  <tbody>\n",
       "    <tr>\n",
       "      <th>England</th>\n",
       "      <td>London</td>\n",
       "      <td>8615246</td>\n",
       "    </tr>\n",
       "    <tr>\n",
       "      <th>Germany</th>\n",
       "      <td>Berlin</td>\n",
       "      <td>3562166</td>\n",
       "    </tr>\n",
       "    <tr>\n",
       "      <th>Spain</th>\n",
       "      <td>Madrid</td>\n",
       "      <td>3165235</td>\n",
       "    </tr>\n",
       "  </tbody>\n",
       "</table>\n",
       "</div>"
      ],
      "text/plain": [
       "           name  population\n",
       "England  London     8615246\n",
       "Germany  Berlin     3562166\n",
       "Spain    Madrid     3165235"
      ]
     },
     "execution_count": 29,
     "metadata": {},
     "output_type": "execute_result"
    }
   ],
   "source": [
    "cities = {\"name\": [\"London\", \"Berlin\", \"Madrid\", \"Rome\", \n",
    "                   \"Paris\", \"Vienna\", \"Bucharest\", \"Hamburg\", \n",
    "                   \"Budapest\", \"Warsaw\", \"Barcelona\", \n",
    "                   \"Munich\", \"Milan\"],\n",
    "          \"population\": [8615246, 3562166, 3165235, 2874038,\n",
    "                         2273305, 1805681, 1803425, 1760433,\n",
    "                         1754000, 1740119, 1602386, 1493900,\n",
    "                         1350680],\n",
    "          \"country\": [\"England\", \"Germany\", \"Spain\", \"Italy\",\n",
    "                      \"France\", \"Austria\", \"Romania\", \n",
    "                      \"Germany\", \"Hungary\", \"Poland\", \"Spain\",\n",
    "                      \"Germany\", \"Italy\"]}\n",
    "\n",
    "city = pd.DataFrame(cities)\n",
    "# city\n",
    "# city.columns.values\n",
    "\n",
    "# city.rename(columns={\"name\":\"Soyadı\", \n",
    "#                            \"country\":\"Ülke\", \n",
    "#                            \"population\":\"Nüfus\"}, inplace=True)\n",
    "city_frame = pd.DataFrame(cities,columns=[\"name\",\"population\"],index=cities[\"country\"])\n",
    "# city_frame\n",
    "# print(city_frame.loc[\"Spain\"])\n",
    "# con = city_frame.population\n",
    "con = city_frame[\"population\"] > 3000000\n",
    "city_frame.loc[con]"
   ]
  },
  {
   "cell_type": "code",
   "execution_count": 30,
   "metadata": {},
   "outputs": [],
   "source": [
    "con = city_frame[\"population\"] > 2000000\n",
    "con2 = city_frame[\"name\"].str.contains(\"m\")\n",
    "# city_frame.loc[con & con2]\n",
    "# city_frame.loc[con | con2]\n",
    "# city_frame.loc['Switzerland'] = ['Zurich', 415215]\n",
    "city.loc[13] = ['Zurich',415215,'Switzerland']\n",
    "city.drop([-1],axis = 0)\n"
   ]
  },
  {
   "cell_type": "code",
   "execution_count": null,
   "metadata": {},
   "outputs": [
    {
     "data": {
      "text/plain": [
       "2014    1923.05\n",
       "2015    1674.03\n",
       "2016    1468.55\n",
       "2017    1754.64\n",
       "2018    1441.72\n",
       "2019    1813.43\n",
       "dtype: float64"
      ]
     },
     "execution_count": 136,
     "metadata": {},
     "output_type": "execute_result"
    }
   ],
   "source": [
    "import numpy as np\n",
    "years = range(2014, 2020)\n",
    "cities = [\"Zürich\", \"Freiburg\", \"München\", \"Konstanz\", \"Saarbrücken\"]\n",
    "shops = pd.DataFrame(index=years)\n",
    "for city in cities:\n",
    "    shops.insert(loc=len(shops.columns),\n",
    "                 column=city,\n",
    "                 value=(np.random.uniform(0.7, 1, (6)) * 1000).round(2))\n",
    "    # print(len(shops.columns))\n",
    "shops\n",
    "# shops.sum()\n",
    "s = shops.iloc[:,[1,2]]\n",
    "s.sum(axis=1)"
   ]
  },
  {
   "cell_type": "code",
   "execution_count": null,
   "metadata": {},
   "outputs": [
    {
     "data": {
      "text/html": [
       "<div>\n",
       "<style scoped>\n",
       "    .dataframe tbody tr th:only-of-type {\n",
       "        vertical-align: middle;\n",
       "    }\n",
       "\n",
       "    .dataframe tbody tr th {\n",
       "        vertical-align: top;\n",
       "    }\n",
       "\n",
       "    .dataframe thead th {\n",
       "        text-align: right;\n",
       "    }\n",
       "</style>\n",
       "<table border=\"1\" class=\"dataframe\">\n",
       "  <thead>\n",
       "    <tr style=\"text-align: right;\">\n",
       "      <th></th>\n",
       "      <th>Last</th>\n",
       "      <th>Job</th>\n",
       "      <th>Languages</th>\n",
       "    </tr>\n",
       "  </thead>\n",
       "  <tbody>\n",
       "    <tr>\n",
       "      <th>Mike</th>\n",
       "      <td>Meyer</td>\n",
       "      <td>data analyst</td>\n",
       "      <td>Python</td>\n",
       "    </tr>\n",
       "    <tr>\n",
       "      <th>Dorothee</th>\n",
       "      <td>Maier</td>\n",
       "      <td>programmer</td>\n",
       "      <td>Perl</td>\n",
       "    </tr>\n",
       "    <tr>\n",
       "      <th>Tom</th>\n",
       "      <td>Meyer</td>\n",
       "      <td>computer scientist</td>\n",
       "      <td>Java</td>\n",
       "    </tr>\n",
       "    <tr>\n",
       "      <th>Bill</th>\n",
       "      <td>Mayer</td>\n",
       "      <td>data scientist</td>\n",
       "      <td>Java</td>\n",
       "    </tr>\n",
       "    <tr>\n",
       "      <th>Pete</th>\n",
       "      <td>Meyr</td>\n",
       "      <td>accountant</td>\n",
       "      <td>Cobol</td>\n",
       "    </tr>\n",
       "    <tr>\n",
       "      <th>Kate</th>\n",
       "      <td>Mair</td>\n",
       "      <td>psychiatrist</td>\n",
       "      <td>Brainfuck</td>\n",
       "    </tr>\n",
       "  </tbody>\n",
       "</table>\n",
       "</div>"
      ],
      "text/plain": [
       "           Last                 Job  Languages\n",
       "Mike      Meyer        data analyst     Python\n",
       "Dorothee  Maier          programmer       Perl\n",
       "Tom       Meyer  computer scientist       Java\n",
       "Bill      Mayer      data scientist       Java\n",
       "Pete       Meyr          accountant      Cobol\n",
       "Kate       Mair        psychiatrist  Brainfuck"
      ]
     },
     "execution_count": 139,
     "metadata": {},
     "output_type": "execute_result"
    }
   ],
   "source": [
    "\n",
    "first = ('Mike', 'Dorothee', 'Tom', 'Bill', 'Pete', 'Kate')\n",
    "last = ('Meyer', 'Maier', 'Meyer', 'Mayer', 'Meyr', 'Mair')\n",
    "job = ('data analyst', 'programmer', 'computer scientist', \n",
    "       'data scientist', 'accountant', 'psychiatrist')\n",
    "language = ('Python', 'Perl', 'Java', 'Java', 'Cobol', 'Brainfuck')\n",
    "\n",
    "df = pd.DataFrame(list(zip(last,job,language)),columns=[\"Last\",\"Job\",\"Languages\"],index=first)\n",
    "df"
   ]
  },
  {
   "cell_type": "code",
   "execution_count": null,
   "metadata": {},
   "outputs": [],
   "source": [
    "df.loc[\"Bill\",\"Job\"]\n",
    "# df.at[\"Tom\",\"Last\"]\n",
    "df.loc[\"Kate\",\"Job\"] = \"data analyst\"\n",
    "df.loc[\"Kate\",\"Job\"]\n",
    "df.loc[\"Mery\"] = [\"Meyr\",\"Auto eng.\",\"Python\"]\n",
    "# df.loc[\"Abdul\"] = [\"Maier\",\"\",\"c++\"]\n",
    "# df.loc[\"salam\"] = [\"\",\"Supply chain\",\"\"]\n",
    "df.loc[\"Ali\"] = [\" \",\"Block chain\",\" \"]\n",
    "# df.loc[\"Bill\",\"Last\"]\n",
    "# print(list(df.index.values))\n",
    "print(df.columns.get_loc(\"Last\"))\n"
   ]
  },
  {
   "cell_type": "markdown",
   "metadata": {},
   "source": [
    "### Practice on Prize Bonds Data "
   ]
  },
  {
   "cell_type": "code",
   "execution_count": null,
   "metadata": {},
   "outputs": [],
   "source": [
    "orignal =pd.DataFrame({\n",
    "    \"100\": [x for x in range(509651,509700)],\n",
    "    \n",
    "    \"750\": [709688,709689,709690,709691,709692,\n",
    "            709693,709694,709695,709696,709697,756025,806552,806553,806554,\n",
    "            806555,901375,915271,999168],\n",
    "    \n",
    "})\n",
    "\n",
    "additional = pd.DataFrame({\n",
    "    \"100_2\": [x for x in range(517551,517600)],\n",
    "})\n",
    "additiona_2 = pd.DataFrame({\n",
    "    \"100_3\": [x for x in range(526201,526300)]\n",
    "})\n",
    "additiona_3 = pd.DataFrame({\n",
    "    \"200\": [480206,489481,490799,494736,500572,\n",
    "            507947,523496,524665,534191,548503,565456,566722,597645,597646,\n",
    "            597648,597649,597650,650343,673441,677654,677655,677656,677660,\n",
    "            677668,719084,725605,731797,810586,912426,912427,930218,576471,\n",
    "            250728,673448,679801,679804,901722,978226,797607,797356,798071,\n",
    "            797560,109279,164563,'021391',577775,649422,671200,250728],\n",
    "})\n",
    "additiona_4 = pd.DataFrame({\n",
    "    \"200_2\": [x for x in range(224101,224200)],\n",
    "})\n",
    "additiona_5 = pd.DataFrame({\n",
    "    \"1500\": ['021397',106280,201308,485247,584445,675847,821113,821114,877318,\n",
    "             877319,199747,'023246',551744,844327,293945,448470,908826]\n",
    "})\n",
    "new = pd.concat([orignal,additional,additiona_2,additiona_3,additiona_4,additiona_5], axis=1)\n",
    "\n",
    "bd_data = pd.DataFrame(new)\n",
    "# bd_data\n",
    "\n",
    "Book_1 = pd.read_excel(\"C:\\\\bonds\\\\Book1.xlsx\")\n",
    "# Book_1.dropna().reset_index(drop=True)\n",
    "C_col = Book_1[\"Bond No.\"].dropna().reset_index(drop=True)\n",
    "bd_data[\"Withdraw Bonds\"] = C_col\n",
    "bd_data\n",
    "\n",
    "bd_data.to_excel(\"C:\\\\Bonds_list.xlsx\", index=False)\n",
    "\n",
    "# C_col.to_excel(\"C:\\\\Bonds_list.xlsx\", index=False)\n",
    "# Book_1.reset_index()\n",
    "\n",
    "# bd_data = pd.DataFrame(new)\n",
    "# print(new)\n",
    "# print(len(Bonds_data['100']))"
   ]
  },
  {
   "cell_type": "code",
   "execution_count": null,
   "metadata": {},
   "outputs": [
    {
     "data": {
      "text/plain": [
       "array(['100', '750', '100_2', '100_3', '200', '200_2', '1500',\n",
       "       'Withdraw Bonds'], dtype=object)"
      ]
     },
     "execution_count": 294,
     "metadata": {},
     "output_type": "execute_result"
    }
   ],
   "source": [
    "# for x in bd_data[\"Withdraw Bonds\"]:\n",
    "#     if x == np.nan:\n",
    "#         pass\n",
    "#     else:\n",
    "#         print(x)\n",
    "\n",
    "# bd_data[\"Withdraw Bonds\"].isin(bd_data.columns.values).value_counts()\n",
    "bd_data.columns"
   ]
  },
  {
   "cell_type": "code",
   "execution_count": null,
   "metadata": {},
   "outputs": [
    {
     "name": "stdout",
     "output_type": "stream",
     "text": [
      "3 is present in list\n",
      "161 is present in list\n",
      "169 is present in list\n",
      "191 is present in list\n",
      "220 is present in list\n"
     ]
    }
   ],
   "source": [
    "sample = {\n",
    "    \"100\": range(0,100),\n",
    "    \"200\": range(100,200),\n",
    "    \"300\": range(200,300)\n",
    "}\n",
    "sample_var = pd.DataFrame(sample)\n",
    "ran = [np.random.randint(1,300) for x in range(5)]\n",
    "for col in sample_var.columns:\n",
    "    for x in sample[col]:\n",
    "        for j in ran:\n",
    "            if x == j:\n",
    "                print(f\"{x} is present in list\")\n"
   ]
  },
  {
   "cell_type": "code",
   "execution_count": null,
   "metadata": {},
   "outputs": [
    {
     "name": "stdout",
     "output_type": "stream",
     "text": [
      "499671.0 is present in list\n",
      "516206.0 is present in list\n",
      "516244.0 is present in list\n",
      "516247.0 is present in list\n",
      "516278.0 is present in list\n",
      "565456.0 is present in list\n",
      "677655.0 is present in list\n",
      "214130.0 is present in list\n"
     ]
    }
   ],
   "source": [
    "orignal =pd.DataFrame({\n",
    "    \"100\": [x for x in range(509651,509700)],\n",
    "    \n",
    "    \"750\": [709688,709689,709690,709691,709692,\n",
    "            709693,709694,709695,709696,709697,756025,806552,806553,806554,\n",
    "            806555,901375,915271,999168],\n",
    "    \n",
    "})\n",
    "\n",
    "additional = pd.DataFrame({\n",
    "    \"100_2\": [x for x in range(517551,517600)],\n",
    "})\n",
    "additiona_2 = pd.DataFrame({\n",
    "    \"100_3\": [x for x in range(526201,526300)]\n",
    "})\n",
    "additiona_3 = pd.DataFrame({\n",
    "    \"200\": [480206,489481,490799,494736,500572,\n",
    "            507947,523496,524665,534191,548503,565456,566722,597645,597646,\n",
    "            597648,597649,597650,650343,673441,677654,677655,677656,677660,\n",
    "            677668,719084,725605,731797,810586,912426,912427,930218,576471,\n",
    "            250728,673448,679801,679804,901722,978226,797607,797356,798071,\n",
    "            797560,109279,164563,'021391',577775,649422,671200,250728],\n",
    "})\n",
    "additiona_4 = pd.DataFrame({\n",
    "    \"200_2\": [x for x in range(224101,224200)],\n",
    "})\n",
    "additiona_5 = pd.DataFrame({\n",
    "    \"1500\": ['021397',106280,201308,485247,584445,675847,821113,821114,877318,\n",
    "             877319,199747,'023246',551744,844327,293945,448470,908826]\n",
    "})\n",
    "new = pd.concat([orignal,additional,additiona_2,additiona_3,additiona_4,additiona_5], axis=1)\n",
    "\n",
    "bd_data = pd.DataFrame(new)\n",
    "\n",
    "Book_1 = pd.read_excel(\"C:\\\\bonds\\\\Book1.xlsx\")\n",
    "# Book_1.dropna().reset_index(drop=True)\n",
    "C_col = Book_1[\"Bond No.\"].dropna().reset_index(drop=True)\n",
    "bd_data[\"Withdraw Bonds\"] = C_col\n",
    "for col in bd_data.iloc[:,:-1]:\n",
    "    for x in bd_data[col]:\n",
    "        for y in bd_data[\"Withdraw Bonds\"]:\n",
    "            if y == x:\n",
    "                print(f\"{y} is present in list\")\n",
    "\n",
    "\n",
    "\n",
    "\n",
    "# bd_data.to_excel(\"C:\\\\Bonds_list.xlsx\", index=False)\n",
    "\n",
    "# C_col.to_excel(\"C:\\\\Bonds_list.xlsx\", index=False)\n",
    "# Book_1.reset_index()\n",
    "\n"
   ]
  },
  {
   "cell_type": "markdown",
   "metadata": {},
   "source": [
    "### Few Real life Examples by AI"
   ]
  },
  {
   "cell_type": "markdown",
   "metadata": {},
   "source": [
    "## Financial Data Analysis"
   ]
  },
  {
   "cell_type": "code",
   "execution_count": null,
   "metadata": {},
   "outputs": [],
   "source": [
    "import pandas as pd\n",
    "df = pd.read_csv('stock_prices.csv')  # Load stock data\n",
    "df['Date'] = pd.to_datetime(df['Date'])  # Convert Date column to datetime\n",
    "df.set_index('Date', inplace=True)  # Set Date as index\n",
    "df['MA50'] = df['Close'].rolling(window=50).mean()  # Calculate 50-day moving average\n",
    "df['MA200'] = df['Close'].rolling(window=200).mean()  # Calculate 200-day moving average\n",
    "print(df[['Close', 'MA50', 'MA200']].tail())  # Display the moving averages"
   ]
  },
  {
   "cell_type": "markdown",
   "metadata": {},
   "source": [
    "## Sales and Marketing Analytics"
   ]
  },
  {
   "cell_type": "code",
   "execution_count": null,
   "metadata": {},
   "outputs": [],
   "source": [
    "# Use Case: Analyzing sales data to identify trends and optimize marketing strategies.\n",
    "\n",
    "# Example: A company can load sales data, group by different products or regions, and calculate total revenue or sales growth rates.\n",
    "\n",
    "\n",
    "df = pd.read_csv('sales_data.csv')  # Load sales data\n",
    "df['Sales Growth'] = df['Current Sales'] / df['Previous Sales'] - 1  # Calculate sales growth\n",
    "revenue_by_region = df.groupby('Region')['Revenue'].sum()  # Calculate total revenue by region\n",
    "print(revenue_by_region)"
   ]
  },
  {
   "cell_type": "markdown",
   "metadata": {},
   "source": [
    "## Customer Segmentation"
   ]
  },
  {
   "cell_type": "code",
   "execution_count": null,
   "metadata": {},
   "outputs": [],
   "source": [
    "# Use Case: Segment customers based on purchasing patterns for targeted marketing.\n",
    "\n",
    "# Example: You can group customers based on their purchase frequency and average order value.\n",
    "\n",
    "df = pd.read_csv('customer_data.csv')\n",
    "df['Total Purchase Value'] = df['Quantity'] * df['Price']  # Calculate total purchase value per order\n",
    "customer_segments = df.groupby('CustomerID')['Total Purchase Value'].sum()  # Total purchases per customer\n",
    "df['Segment'] = pd.qcut(df['Total Purchase Value'], q=4, labels=['Low', 'Medium', 'High', 'VIP'])  # Segment customers\n",
    "print(df[['CustomerID', 'Segment']].head())"
   ]
  },
  {
   "cell_type": "markdown",
   "metadata": {},
   "source": [
    "## Healthcare Data Analysis"
   ]
  },
  {
   "cell_type": "code",
   "execution_count": null,
   "metadata": {},
   "outputs": [],
   "source": [
    "# Use Case: Analyzing patient data to identify health trends.\n",
    "\n",
    "# Example: Hospitals can load patient data and analyze statistics on common illnesses, length of hospital stays, or treatments based on patient demographics\n",
    "\n",
    "df = pd.read_csv('patient_data.csv')\n",
    "avg_stay = df.groupby('Disease')['Hospital Stay Days'].mean()  # Average length of stay by disease\n",
    "disease_counts = df['Disease'].value_counts()  # Count occurrences of each disease\n",
    "print(avg_stay)\n",
    "print(disease_counts)"
   ]
  },
  {
   "cell_type": "markdown",
   "metadata": {},
   "source": [
    "## E-Commerce"
   ]
  },
  {
   "cell_type": "code",
   "execution_count": null,
   "metadata": {},
   "outputs": [],
   "source": [
    "# Use Case: Understanding product trends and customer behavior on e-commerce websites.\n",
    "\n",
    "# Example: A company can track website visitors’ behavior, which products they view, and their purchase histories.\n",
    "\n",
    "df = pd.read_csv('ecommerce_data.csv')\n",
    "df['Visit to Purchase Ratio'] = df['Purchases'] / df['Page Views']  # Calculate conversion rate\n",
    "most_popular_product = df.groupby('Product')['Purchases'].sum().idxmax()  # Most purchased product\n",
    "print(f\"The most popular product is: {most_popular_product}\")\n"
   ]
  }
 ],
 "metadata": {
  "kernelspec": {
   "display_name": "Python 3",
   "language": "python",
   "name": "python3"
  },
  "language_info": {
   "codemirror_mode": {
    "name": "ipython",
    "version": 3
   },
   "file_extension": ".py",
   "mimetype": "text/x-python",
   "name": "python",
   "nbconvert_exporter": "python",
   "pygments_lexer": "ipython3",
   "version": "3.10.5"
  },
  "orig_nbformat": 4,
  "vscode": {
   "interpreter": {
    "hash": "26de051ba29f2982a8de78e945f0abaf191376122a1563185a90213a26c5da77"
   }
  }
 },
 "nbformat": 4,
 "nbformat_minor": 2
}
